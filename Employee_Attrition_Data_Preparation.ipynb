{
 "cells": [
  {
   "cell_type": "markdown",
   "id": "9ff0b545-6a94-424b-8f9e-26a2006d16e3",
   "metadata": {},
   "source": [
    "## Import Libraries & Modules"
   ]
  },
  {
   "cell_type": "code",
   "execution_count": 5,
   "id": "11859100-a8ea-42bf-96a7-13c3b97e6ee5",
   "metadata": {},
   "outputs": [],
   "source": [
    "import pandas as pd"
   ]
  },
  {
   "cell_type": "markdown",
   "id": "a914de16-16cd-4219-bb32-fac6bd9afe66",
   "metadata": {},
   "source": [
    "## Load Data Set"
   ]
  },
  {
   "cell_type": "code",
   "execution_count": 8,
   "id": "cb8b55ca-9b7e-4a7d-9fb8-eb31295136ee",
   "metadata": {},
   "outputs": [],
   "source": [
    "df1 = pd.read_csv(r\"./Data/train.csv\")\n",
    "df2 = pd.read_csv(r\"./Data/test.csv\")"
   ]
  },
  {
   "cell_type": "code",
   "execution_count": 10,
   "id": "3f038ff7-7972-4b82-9e27-90ca459c0caa",
   "metadata": {},
   "outputs": [],
   "source": [
    "# Combine train & test data sets\n",
    "df = pd.concat([df1, df2], ignore_index=True)"
   ]
  },
  {
   "cell_type": "code",
   "execution_count": 16,
   "id": "9fdfe342-f6c6-420c-8ea5-740b358847c8",
   "metadata": {},
   "outputs": [
    {
     "data": {
      "text/html": [
       "<div>\n",
       "<style scoped>\n",
       "    .dataframe tbody tr th:only-of-type {\n",
       "        vertical-align: middle;\n",
       "    }\n",
       "\n",
       "    .dataframe tbody tr th {\n",
       "        vertical-align: top;\n",
       "    }\n",
       "\n",
       "    .dataframe thead th {\n",
       "        text-align: right;\n",
       "    }\n",
       "</style>\n",
       "<table border=\"1\" class=\"dataframe\">\n",
       "  <thead>\n",
       "    <tr style=\"text-align: right;\">\n",
       "      <th></th>\n",
       "      <th>Employee ID</th>\n",
       "      <th>Age</th>\n",
       "      <th>Gender</th>\n",
       "      <th>Years at Company</th>\n",
       "      <th>Job Role</th>\n",
       "      <th>Monthly Income</th>\n",
       "      <th>Work-Life Balance</th>\n",
       "      <th>Job Satisfaction</th>\n",
       "      <th>Performance Rating</th>\n",
       "      <th>Number of Promotions</th>\n",
       "      <th>...</th>\n",
       "      <th>Number of Dependents</th>\n",
       "      <th>Job Level</th>\n",
       "      <th>Company Size</th>\n",
       "      <th>Company Tenure</th>\n",
       "      <th>Remote Work</th>\n",
       "      <th>Leadership Opportunities</th>\n",
       "      <th>Innovation Opportunities</th>\n",
       "      <th>Company Reputation</th>\n",
       "      <th>Employee Recognition</th>\n",
       "      <th>Attrition</th>\n",
       "    </tr>\n",
       "  </thead>\n",
       "  <tbody>\n",
       "    <tr>\n",
       "      <th>0</th>\n",
       "      <td>8410</td>\n",
       "      <td>31</td>\n",
       "      <td>Male</td>\n",
       "      <td>19</td>\n",
       "      <td>Education</td>\n",
       "      <td>5390</td>\n",
       "      <td>Excellent</td>\n",
       "      <td>Medium</td>\n",
       "      <td>Average</td>\n",
       "      <td>2</td>\n",
       "      <td>...</td>\n",
       "      <td>0</td>\n",
       "      <td>Mid</td>\n",
       "      <td>Medium</td>\n",
       "      <td>89</td>\n",
       "      <td>No</td>\n",
       "      <td>No</td>\n",
       "      <td>No</td>\n",
       "      <td>Excellent</td>\n",
       "      <td>Medium</td>\n",
       "      <td>Stayed</td>\n",
       "    </tr>\n",
       "    <tr>\n",
       "      <th>1</th>\n",
       "      <td>64756</td>\n",
       "      <td>59</td>\n",
       "      <td>Female</td>\n",
       "      <td>4</td>\n",
       "      <td>Media</td>\n",
       "      <td>5534</td>\n",
       "      <td>Poor</td>\n",
       "      <td>High</td>\n",
       "      <td>Low</td>\n",
       "      <td>3</td>\n",
       "      <td>...</td>\n",
       "      <td>3</td>\n",
       "      <td>Mid</td>\n",
       "      <td>Medium</td>\n",
       "      <td>21</td>\n",
       "      <td>No</td>\n",
       "      <td>No</td>\n",
       "      <td>No</td>\n",
       "      <td>Fair</td>\n",
       "      <td>Low</td>\n",
       "      <td>Stayed</td>\n",
       "    </tr>\n",
       "    <tr>\n",
       "      <th>2</th>\n",
       "      <td>30257</td>\n",
       "      <td>24</td>\n",
       "      <td>Female</td>\n",
       "      <td>10</td>\n",
       "      <td>Healthcare</td>\n",
       "      <td>8159</td>\n",
       "      <td>Good</td>\n",
       "      <td>High</td>\n",
       "      <td>Low</td>\n",
       "      <td>0</td>\n",
       "      <td>...</td>\n",
       "      <td>3</td>\n",
       "      <td>Mid</td>\n",
       "      <td>Medium</td>\n",
       "      <td>74</td>\n",
       "      <td>No</td>\n",
       "      <td>No</td>\n",
       "      <td>No</td>\n",
       "      <td>Poor</td>\n",
       "      <td>Low</td>\n",
       "      <td>Stayed</td>\n",
       "    </tr>\n",
       "    <tr>\n",
       "      <th>3</th>\n",
       "      <td>65791</td>\n",
       "      <td>36</td>\n",
       "      <td>Female</td>\n",
       "      <td>7</td>\n",
       "      <td>Education</td>\n",
       "      <td>3989</td>\n",
       "      <td>Good</td>\n",
       "      <td>High</td>\n",
       "      <td>High</td>\n",
       "      <td>1</td>\n",
       "      <td>...</td>\n",
       "      <td>2</td>\n",
       "      <td>Mid</td>\n",
       "      <td>Small</td>\n",
       "      <td>50</td>\n",
       "      <td>Yes</td>\n",
       "      <td>No</td>\n",
       "      <td>No</td>\n",
       "      <td>Good</td>\n",
       "      <td>Medium</td>\n",
       "      <td>Stayed</td>\n",
       "    </tr>\n",
       "    <tr>\n",
       "      <th>4</th>\n",
       "      <td>65026</td>\n",
       "      <td>56</td>\n",
       "      <td>Male</td>\n",
       "      <td>41</td>\n",
       "      <td>Education</td>\n",
       "      <td>4821</td>\n",
       "      <td>Fair</td>\n",
       "      <td>Very High</td>\n",
       "      <td>Average</td>\n",
       "      <td>0</td>\n",
       "      <td>...</td>\n",
       "      <td>0</td>\n",
       "      <td>Senior</td>\n",
       "      <td>Medium</td>\n",
       "      <td>68</td>\n",
       "      <td>No</td>\n",
       "      <td>No</td>\n",
       "      <td>No</td>\n",
       "      <td>Fair</td>\n",
       "      <td>Medium</td>\n",
       "      <td>Stayed</td>\n",
       "    </tr>\n",
       "  </tbody>\n",
       "</table>\n",
       "<p>5 rows × 24 columns</p>\n",
       "</div>"
      ],
      "text/plain": [
       "   Employee ID  Age  Gender  Years at Company    Job Role  Monthly Income  \\\n",
       "0         8410   31    Male                19   Education            5390   \n",
       "1        64756   59  Female                 4       Media            5534   \n",
       "2        30257   24  Female                10  Healthcare            8159   \n",
       "3        65791   36  Female                 7   Education            3989   \n",
       "4        65026   56    Male                41   Education            4821   \n",
       "\n",
       "  Work-Life Balance Job Satisfaction Performance Rating  Number of Promotions  \\\n",
       "0         Excellent           Medium            Average                     2   \n",
       "1              Poor             High                Low                     3   \n",
       "2              Good             High                Low                     0   \n",
       "3              Good             High               High                     1   \n",
       "4              Fair        Very High            Average                     0   \n",
       "\n",
       "   ... Number of Dependents  Job Level Company Size Company Tenure  \\\n",
       "0  ...                    0        Mid       Medium             89   \n",
       "1  ...                    3        Mid       Medium             21   \n",
       "2  ...                    3        Mid       Medium             74   \n",
       "3  ...                    2        Mid        Small             50   \n",
       "4  ...                    0     Senior       Medium             68   \n",
       "\n",
       "   Remote Work Leadership Opportunities Innovation Opportunities  \\\n",
       "0           No                       No                       No   \n",
       "1           No                       No                       No   \n",
       "2           No                       No                       No   \n",
       "3          Yes                       No                       No   \n",
       "4           No                       No                       No   \n",
       "\n",
       "   Company Reputation Employee Recognition Attrition  \n",
       "0           Excellent               Medium    Stayed  \n",
       "1                Fair                  Low    Stayed  \n",
       "2                Poor                  Low    Stayed  \n",
       "3                Good               Medium    Stayed  \n",
       "4                Fair               Medium    Stayed  \n",
       "\n",
       "[5 rows x 24 columns]"
      ]
     },
     "execution_count": 16,
     "metadata": {},
     "output_type": "execute_result"
    }
   ],
   "source": [
    "df.head()"
   ]
  },
  {
   "cell_type": "code",
   "execution_count": 18,
   "id": "770fbb42-5052-4e38-86f9-d7559302a9dc",
   "metadata": {},
   "outputs": [
    {
     "data": {
      "text/plain": [
       "0"
      ]
     },
     "execution_count": 18,
     "metadata": {},
     "output_type": "execute_result"
    }
   ],
   "source": [
    "# Chack if there is duplicated rows\n",
    "(len(df[df.duplicated()]))"
   ]
  },
  {
   "cell_type": "code",
   "execution_count": 20,
   "id": "6984b7d0-8e05-4e6d-bf60-32da8c0f7067",
   "metadata": {},
   "outputs": [
    {
     "data": {
      "text/plain": [
       "Index(['Employee ID', 'Age', 'Gender', 'Years at Company', 'Job Role',\n",
       "       'Monthly Income', 'Work-Life Balance', 'Job Satisfaction',\n",
       "       'Performance Rating', 'Number of Promotions', 'Overtime',\n",
       "       'Distance from Home', 'Education Level', 'Marital Status',\n",
       "       'Number of Dependents', 'Job Level', 'Company Size', 'Company Tenure',\n",
       "       'Remote Work', 'Leadership Opportunities', 'Innovation Opportunities',\n",
       "       'Company Reputation', 'Employee Recognition', 'Attrition'],\n",
       "      dtype='object')"
      ]
     },
     "execution_count": 20,
     "metadata": {},
     "output_type": "execute_result"
    }
   ],
   "source": [
    "df.columns"
   ]
  },
  {
   "cell_type": "code",
   "execution_count": 22,
   "id": "9f866cf5-0e82-408f-9d1c-5ee3a950acbf",
   "metadata": {},
   "outputs": [
    {
     "name": "stdout",
     "output_type": "stream",
     "text": [
      "<class 'pandas.core.frame.DataFrame'>\n",
      "RangeIndex: 74498 entries, 0 to 74497\n",
      "Data columns (total 24 columns):\n",
      " #   Column                    Non-Null Count  Dtype \n",
      "---  ------                    --------------  ----- \n",
      " 0   Employee ID               74498 non-null  int64 \n",
      " 1   Age                       74498 non-null  int64 \n",
      " 2   Gender                    74498 non-null  object\n",
      " 3   Years at Company          74498 non-null  int64 \n",
      " 4   Job Role                  74498 non-null  object\n",
      " 5   Monthly Income            74498 non-null  int64 \n",
      " 6   Work-Life Balance         74498 non-null  object\n",
      " 7   Job Satisfaction          74498 non-null  object\n",
      " 8   Performance Rating        74498 non-null  object\n",
      " 9   Number of Promotions      74498 non-null  int64 \n",
      " 10  Overtime                  74498 non-null  object\n",
      " 11  Distance from Home        74498 non-null  int64 \n",
      " 12  Education Level           74498 non-null  object\n",
      " 13  Marital Status            74498 non-null  object\n",
      " 14  Number of Dependents      74498 non-null  int64 \n",
      " 15  Job Level                 74498 non-null  object\n",
      " 16  Company Size              74498 non-null  object\n",
      " 17  Company Tenure            74498 non-null  int64 \n",
      " 18  Remote Work               74498 non-null  object\n",
      " 19  Leadership Opportunities  74498 non-null  object\n",
      " 20  Innovation Opportunities  74498 non-null  object\n",
      " 21  Company Reputation        74498 non-null  object\n",
      " 22  Employee Recognition      74498 non-null  object\n",
      " 23  Attrition                 74498 non-null  object\n",
      "dtypes: int64(8), object(16)\n",
      "memory usage: 13.6+ MB\n"
     ]
    }
   ],
   "source": [
    "df.info()"
   ]
  },
  {
   "cell_type": "code",
   "execution_count": 24,
   "id": "bf899b7e-b755-4ea3-864c-c0e07cfa87ea",
   "metadata": {},
   "outputs": [
    {
     "data": {
      "text/plain": [
       "(74498, 24)"
      ]
     },
     "execution_count": 24,
     "metadata": {},
     "output_type": "execute_result"
    }
   ],
   "source": [
    "df.shape"
   ]
  },
  {
   "cell_type": "code",
   "execution_count": null,
   "id": "eedfaabd-06a7-4eb8-ba88-e4fcf721e84d",
   "metadata": {},
   "outputs": [],
   "source": []
  },
  {
   "cell_type": "code",
   "execution_count": null,
   "id": "c589118f-869f-4236-8f89-bee796d682a8",
   "metadata": {},
   "outputs": [],
   "source": []
  }
 ],
 "metadata": {
  "kernelspec": {
   "display_name": "Python 3 (ipykernel)",
   "language": "python",
   "name": "python3"
  },
  "language_info": {
   "codemirror_mode": {
    "name": "ipython",
    "version": 3
   },
   "file_extension": ".py",
   "mimetype": "text/x-python",
   "name": "python",
   "nbconvert_exporter": "python",
   "pygments_lexer": "ipython3",
   "version": "3.12.7"
  }
 },
 "nbformat": 4,
 "nbformat_minor": 5
}
